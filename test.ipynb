{
 "cells": [
  {
   "cell_type": "code",
   "execution_count": null,
   "id": "8913d1853f16c460",
   "metadata": {
    "collapsed": true
   },
   "outputs": [],
   "source": [
    "import datetime\n",
    "import os\n",
    "os.chdir(os.getcwd())"
   ]
  },
  {
   "cell_type": "code",
   "execution_count": null,
   "outputs": [],
   "source": [
    "from docx import Document\n",
    "\n",
    "# 打开Word文档\n",
    "doc = Document(r'test_files/test.docx')"
   ],
   "metadata": {
    "collapsed": false
   },
   "id": "initial_id"
  },
  {
   "cell_type": "code",
   "execution_count": null,
   "outputs": [],
   "source": [
    "graphs = doc.paragraphs"
   ],
   "metadata": {
    "collapsed": false
   },
   "id": "c0e143b1fae31544"
  },
  {
   "cell_type": "code",
   "execution_count": null,
   "outputs": [],
   "source": [
    "len(graphs)"
   ],
   "metadata": {
    "collapsed": false
   },
   "id": "3d8ad5a9748113fd"
  },
  {
   "cell_type": "code",
   "execution_count": null,
   "outputs": [],
   "source": [
    "graphs[33].text"
   ],
   "metadata": {
    "collapsed": false
   },
   "id": "1710d53b0577e42d"
  },
  {
   "cell_type": "code",
   "execution_count": null,
   "outputs": [],
   "source": [
    "graphs[8].style.name"
   ],
   "metadata": {
    "collapsed": false
   },
   "id": "712d0bd0686fdc9"
  },
  {
   "cell_type": "code",
   "execution_count": null,
   "outputs": [],
   "source": [
    "for graph in doc.paragraphs:\n",
    "    print(graph.style.name)\n",
    "    if '图表' in graph.text:\n",
    "        break"
   ],
   "metadata": {
    "collapsed": false
   },
   "id": "ce6acd0562fc78e4"
  },
  {
   "cell_type": "code",
   "execution_count": null,
   "outputs": [],
   "source": [
    "normal_doc = Document('test_files\\\\xzb.docx')"
   ],
   "metadata": {
    "collapsed": false
   },
   "id": "2e2326fdfa54a2fd"
  },
  {
   "cell_type": "code",
   "execution_count": null,
   "outputs": [],
   "source": [
    "normals = []\n",
    "for graph in normal_doc.paragraphs:\n",
    "    if graph.style.name == 'Normal':\n",
    "        normals.append(graph.text)\n",
    "\n"
   ],
   "metadata": {
    "collapsed": false
   },
   "id": "e4dd37ea39b05692"
  },
  {
   "cell_type": "code",
   "execution_count": null,
   "outputs": [],
   "source": [
    "text = []"
   ],
   "metadata": {
    "collapsed": false
   },
   "id": "c22b20d265fa25ec"
  },
  {
   "cell_type": "code",
   "execution_count": null,
   "outputs": [],
   "source": [
    "for graph in normal_doc.paragraphs:\n",
    "    text.append(graph.text)"
   ],
   "metadata": {
    "collapsed": false
   },
   "id": "a73e7fafdbf86c0e"
  },
  {
   "cell_type": "code",
   "execution_count": null,
   "outputs": [],
   "source": [
    "for table in normal_doc.tables:\n",
    "    for row in table.rows:\n",
    "        for cell in row.cells:\n",
    "            text.append(cell.text)"
   ],
   "metadata": {
    "collapsed": false
   },
   "id": "266a92d6fba3733c"
  },
  {
   "cell_type": "code",
   "execution_count": null,
   "outputs": [],
   "source": [
    "for te in text:\n",
    "    print(te)"
   ],
   "metadata": {
    "collapsed": false
   },
   "id": "9f3dff521fd596aa"
  },
  {
   "cell_type": "code",
   "execution_count": null,
   "outputs": [],
   "source": [
    "\n",
    "import xml.etree.ElementTree as ET\n",
    "\n",
    "tree = ET.parse('test_files/xzb/word/document.xml')\n",
    "texts = tree.findall('.//w')\n"
   ],
   "metadata": {
    "collapsed": false
   },
   "id": "468963805e0f5261"
  },
  {
   "cell_type": "code",
   "execution_count": null,
   "outputs": [],
   "source": [
    "for text in texts:\n",
    "    print(text)"
   ],
   "metadata": {
    "collapsed": false
   },
   "id": "39c3a1d28f5920a4"
  },
  {
   "cell_type": "code",
   "execution_count": null,
   "outputs": [],
   "source": [
    "sample = '\\\\data\\\\file_storge\\\\zhangsan.file.doc'\n",
    "sample.endswith('.doc')"
   ],
   "metadata": {
    "collapsed": false
   },
   "id": "d2036fce8f49e859"
  },
  {
   "cell_type": "code",
   "execution_count": null,
   "outputs": [],
   "source": [
    "os.path.join(sample.rsplit('.',1)[0],'.docx')"
   ],
   "metadata": {
    "collapsed": false
   },
   "id": "8be23d4494a3a819"
  },
  {
   "cell_type": "code",
   "execution_count": null,
   "outputs": [],
   "source": [
    "import os\n",
    "os.environ"
   ],
   "metadata": {
    "collapsed": false
   },
   "id": "9179475c237d71bb"
  },
  {
   "cell_type": "code",
   "execution_count": 3,
   "outputs": [
    {
     "data": {
      "text/plain": "115"
     },
     "execution_count": 3,
     "metadata": {},
     "output_type": "execute_result"
    }
   ],
   "source": [
    "string = \"8e89c87e-f8a7-452c-a1c7-75063865cf02asdfasdfasdfasdfqwrwexzcvxzcfasdgfasdvzxcarfqwefvadsczxfvadfsazxvxcvaqrwer.docx\"\n",
    "len(string)"
   ],
   "metadata": {
    "collapsed": false,
    "ExecuteTime": {
     "end_time": "2023-11-16T04:03:40.301348500Z",
     "start_time": "2023-11-16T04:03:40.289778300Z"
    }
   },
   "id": "c17549612a94350"
  },
  {
   "cell_type": "code",
   "execution_count": 4,
   "outputs": [
    {
     "data": {
      "text/plain": "['8e89c87e-f8a7-452c-a1c7-75063865cf02asdfasdfasdfasdfqwrwexzcvxzcfasdgfasdvzxcarfqwefvadsczxfvadfsazxvxcvaqrwer',\n 'docx']"
     },
     "execution_count": 4,
     "metadata": {},
     "output_type": "execute_result"
    }
   ],
   "source": [
    "string.rsplit('.',1)"
   ],
   "metadata": {
    "collapsed": false,
    "ExecuteTime": {
     "end_time": "2023-11-16T04:03:40.539880400Z",
     "start_time": "2023-11-16T04:03:40.526778100Z"
    }
   },
   "id": "22b559dd25e773c9"
  },
  {
   "cell_type": "code",
   "execution_count": 8,
   "outputs": [
    {
     "data": {
      "text/plain": "'78756'"
     },
     "execution_count": 8,
     "metadata": {},
     "output_type": "execute_result"
    }
   ],
   "source": [
    "from datetime import datetime\n",
    "\n",
    "str(int(datetime.timestamp(datetime.utcnow())))[-5:]"
   ],
   "metadata": {
    "collapsed": false,
    "ExecuteTime": {
     "end_time": "2023-11-16T04:05:56.387549Z",
     "start_time": "2023-11-16T04:05:56.370897500Z"
    }
   },
   "id": "31e076045b89a009"
  },
  {
   "cell_type": "code",
   "execution_count": 12,
   "outputs": [
    {
     "ename": "SyntaxError",
     "evalue": "(unicode error) 'unicodeescape' codec can't decode bytes in position 29-30: truncated \\UXXXXXXXX escape (2913152572.py, line 1)",
     "output_type": "error",
     "traceback": [
      "\u001B[1;36m  Cell \u001B[1;32mIn[12], line 1\u001B[1;36m\u001B[0m\n\u001B[1;33m    filepath = 'D:\\code\\Python\\TextSimilarity\\UploadFolder\\Answer (2).docx'\u001B[0m\n\u001B[1;37m                                                                           ^\u001B[0m\n\u001B[1;31mSyntaxError\u001B[0m\u001B[1;31m:\u001B[0m (unicode error) 'unicodeescape' codec can't decode bytes in position 29-30: truncated \\UXXXXXXXX escape\n"
     ]
    }
   ],
   "source": [
    "filepath = 'D:\\code\\Python\\TextSimilarity\\UploadFolder\\Answer (2).docx'\n",
    "filepath.rsplit('\\\\')[-1]"
   ],
   "metadata": {
    "collapsed": false,
    "ExecuteTime": {
     "end_time": "2023-11-16T04:15:36.866602800Z",
     "start_time": "2023-11-16T04:15:36.861582700Z"
    }
   },
   "id": "f9d4ef63e519319b"
  },
  {
   "cell_type": "code",
   "execution_count": null,
   "outputs": [],
   "source": [],
   "metadata": {
    "collapsed": false
   },
   "id": "51a2b828f87a19c6"
  }
 ],
 "metadata": {
  "kernelspec": {
   "display_name": "Python 3",
   "language": "python",
   "name": "python3"
  },
  "language_info": {
   "codemirror_mode": {
    "name": "ipython",
    "version": 2
   },
   "file_extension": ".py",
   "mimetype": "text/x-python",
   "name": "python",
   "nbconvert_exporter": "python",
   "pygments_lexer": "ipython2",
   "version": "2.7.6"
  }
 },
 "nbformat": 4,
 "nbformat_minor": 5
}
