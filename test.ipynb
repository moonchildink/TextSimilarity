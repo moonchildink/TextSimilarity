{
 "cells": [
  {
   "cell_type": "code",
   "execution_count": null,
   "outputs": [],
   "source": [
    "from docx import Document\n",
    "\n",
    "# 打开Word文档\n",
    "doc = Document(\n",
    "    r'D:\\code\\Python\\TextSimilarity\\UploadFolder\\8e89c87e-f8a7-452c-a1c7-75063865cf02asdfasdfasdfasdfqwrwexzcvxzcfasdgfasdvzxcarfqwefvadsczxfvadfsazxvxcvaqrwer.docx')\n",
    "doc2 = Document(r'D:\\code\\Python\\TextSimilarity\\UploadFolder\\Answer (2).docx')"
   ],
   "metadata": {
    "collapsed": false
   },
   "id": "initial_id"
  },
  {
   "cell_type": "code",
   "execution_count": null,
   "outputs": [],
   "source": [
    "from docx import Document\n",
    "\n",
    "\n",
    "def read_docx(file_path):\n",
    "    # 打开文档\n",
    "    doc = Document(file_path)\n",
    "    full_text = []\n",
    "\n",
    "    # 读取段落\n",
    "    for para in doc.paragraphs:\n",
    "        full_text.append(para.text)\n",
    "\n",
    "    # 读取表格\n",
    "    for table in doc.tables:\n",
    "        for row in table.rows:\n",
    "            for cell in row.cells:\n",
    "                full_text.append(cell.text)\n",
    "\n",
    "    return '\\n'.join(full_text)\n"
   ],
   "metadata": {
    "collapsed": false
   },
   "id": "aa5191d98f43f794"
  },
  {
   "cell_type": "code",
   "execution_count": null,
   "outputs": [],
   "source": [
    "def read_paragraph(file_path):\n",
    "    doc = Document(file_path)\n",
    "    full_text = []\n",
    "\n",
    "    for para in doc.paragraphs:\n",
    "        full_text.append(para.text)\n",
    "\n",
    "    return '\\n'.join(full_text)"
   ],
   "metadata": {
    "collapsed": false
   },
   "id": "a55cc66ebd958efe"
  },
  {
   "cell_type": "code",
   "execution_count": null,
   "outputs": [],
   "source": [
    "file_path = r\"D:\\documents\\三年级\\人工智能原理\\2021218189-邢智博-人工智能原理期末报告.docx\"\n",
    "document_text = read_docx(file_path)\n",
    "\n",
    "print(document_text)"
   ],
   "metadata": {
    "collapsed": false
   },
   "id": "d14bb2be56c22215"
  },
  {
   "cell_type": "code",
   "execution_count": null,
   "outputs": [],
   "source": [
    "text2 = read_paragraph(file_path)\n",
    "print(text2)\n"
   ],
   "metadata": {
    "collapsed": false
   },
   "id": "aa3b5cbbd550e9ee"
  },
  {
   "cell_type": "code",
   "execution_count": null,
   "outputs": [],
   "source": [
    "import mammoth\n",
    "\n"
   ],
   "metadata": {
    "collapsed": false
   },
   "id": "d7fd28df4afde58d"
  },
  {
   "cell_type": "code",
   "execution_count": null,
   "outputs": [],
   "source": [
    "def convert_word_to_html(input_path, output_path='output.html'):\n",
    "    custom_style = 'b=>i'\n",
    "    with open(input_path, 'rb') as docx_file:\n",
    "        result = mammoth.convert_to_html(docx_file, style_map=custom_style)\n",
    "\n",
    "    text = result.value\n",
    "    with open(output_path, 'w+', encoding='utf-8') as html_file:\n",
    "        html_file.write(text)"
   ],
   "metadata": {
    "collapsed": false
   },
   "id": "e5dcd7f16d22077"
  },
  {
   "cell_type": "code",
   "execution_count": null,
   "outputs": [],
   "source": [
    "file_path = r\"D:\\code\\Python\\TextSimilarity\\test_files\\xzb.docx\"\n",
    "convert_word_to_html(file_path)"
   ],
   "metadata": {
    "collapsed": false
   },
   "id": "8b1742196eb2f171"
  },
  {
   "cell_type": "code",
   "execution_count": null,
   "outputs": [],
   "source": [
    "file_path.rsplit('\\\\', 1)[-1].split('.')[0]"
   ],
   "metadata": {
    "collapsed": false
   },
   "id": "d0e79aded549ae3c"
  },
  {
   "cell_type": "code",
   "execution_count": null,
   "outputs": [],
   "source": [
    "def convert_docx_to_markdown(input_path, output_path='output.md'):\n",
    "    with open(input_path, 'rb') as docx_file:\n",
    "        result = mammoth.convert_to_markdown(docx_file)\n",
    "    with open(output_path, 'w+',encoding='utf-8') as markdown_file:\n",
    "        markdown_file.write(result.value)"
   ],
   "metadata": {
    "collapsed": false
   },
   "id": "704b1e783082ffef"
  },
  {
   "cell_type": "code",
   "execution_count": null,
   "outputs": [],
   "source": [
    "convert_docx_to_markdown(file_path)"
   ],
   "metadata": {
    "collapsed": false
   },
   "id": "3e77fac24f1c0acb"
  },
  {
   "cell_type": "code",
   "execution_count": null,
   "outputs": [],
   "source": [
    "from bs4 import BeautifulSoup\n",
    "def get_all_text_from_html(path):\n",
    "    with open(path,'r',encoding='utf-8') as file:\n",
    "        html_content = file.read()\n",
    "        \n",
    "    soup = BeautifulSoup(html_content,'html.parser')\n",
    "    \n",
    "    elements = soup.find_all(['p','li','label'])\n",
    "    texts = [element.get_text().strip() for element in elements]\n",
    "    \n",
    "    main_text = '\\n'.join(texts)\n",
    "    \n",
    "    return main_text\n"
   ],
   "metadata": {
    "collapsed": false
   },
   "id": "9edb5d79cccd7ad"
  },
  {
   "cell_type": "code",
   "execution_count": null,
   "outputs": [],
   "source": [
    "text = get_all_text_from_html(r'D:\\code\\Python\\TextSimilarity\\output.html')"
   ],
   "metadata": {
    "collapsed": false
   },
   "id": "2d3859a3e143af75"
  },
  {
   "cell_type": "code",
   "execution_count": null,
   "outputs": [],
   "source": [
    "print(text)"
   ],
   "metadata": {
    "collapsed": false
   },
   "id": "e92ad3f0669d17c6"
  },
  {
   "cell_type": "code",
   "execution_count": null,
   "outputs": [],
   "source": [
    "li = [12,2,43,3322,23,32344,2323,23]\n",
    "for i in enumerate(li):\n",
    "    print(i)"
   ],
   "metadata": {
    "collapsed": false
   },
   "id": "f6d55a330de3da17"
  },
  {
   "cell_type": "code",
   "execution_count": null,
   "outputs": [],
   "source": [],
   "metadata": {
    "collapsed": false
   },
   "id": "788ff81e81c73055"
  }
 ],
 "metadata": {
  "kernelspec": {
   "display_name": "Python 3",
   "language": "python",
   "name": "python3"
  },
  "language_info": {
   "codemirror_mode": {
    "name": "ipython",
    "version": 2
   },
   "file_extension": ".py",
   "mimetype": "text/x-python",
   "name": "python",
   "nbconvert_exporter": "python",
   "pygments_lexer": "ipython2",
   "version": "2.7.6"
  }
 },
 "nbformat": 4,
 "nbformat_minor": 5
}
